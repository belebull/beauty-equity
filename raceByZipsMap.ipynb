{
 "metadata": {
  "language_info": {
   "codemirror_mode": {
    "name": "ipython",
    "version": 3
   },
   "file_extension": ".py",
   "mimetype": "text/x-python",
   "name": "python",
   "nbconvert_exporter": "python",
   "pygments_lexer": "ipython3",
   "version": "3.8.5-final"
  },
  "orig_nbformat": 2,
  "kernelspec": {
   "name": "python3",
   "display_name": "Python 3",
   "language": "python"
  }
 },
 "nbformat": 4,
 "nbformat_minor": 2,
 "cells": [
  {
   "cell_type": "code",
   "execution_count": 46,
   "metadata": {},
   "outputs": [],
   "source": [
    "# imports libraries\n",
    "import pandas as pd\n",
    "import numpy as np\n",
    "from tabulate import tabulate as tb\n",
    "import folium\n",
    "\n",
    "# project files.\n",
    "import constants as cs"
   ]
  },
  {
   "source": [
    "## State File Information"
   ],
   "cell_type": "markdown",
   "metadata": {}
  },
  {
   "cell_type": "code",
   "execution_count": 26,
   "metadata": {},
   "outputs": [],
   "source": [
    "# define constants for the file\n",
    "state_code = 'IL'\n",
    "state_data_file = 'state_data/{state}.csv'.format(state=state_code)\n",
    "state_data = pd.read_csv(state_data_file)\n",
    "state_data['zip_code'] = state_data['zip_code'].astype(str)"
   ]
  },
  {
   "source": [
    "## Identifying Majority Races within Zip Codes"
   ],
   "cell_type": "markdown",
   "metadata": {}
  },
  {
   "cell_type": "code",
   "execution_count": 45,
   "metadata": {
    "tags": []
   },
   "outputs": [],
   "source": [
    "# create data frame of communities that are predominately one race\n",
    "white_zips = state_data.loc[state_data['white_percentage'] > 0.6]\n",
    "white_zips = white_zips[['zip_code', 'white_percentage']]\n",
    "white_zips.white_percentage = white_zips.white_percentage * -1\n",
    "\n",
    "black_zips = state_data.loc[state_data['black_percentage'] > 0.6]\n",
    "black_zips = black_zips[['zip_code', 'black_percentage']]\n"
   ]
  },
  {
   "source": [
    "### Map Predominately White vs. Predominately Black Communities\n",
    "Using the scale, communities that are predominately White will have a value closer to -1 and communities that are predominately Black will have a value closer to 1. Notably, we use a 60% threshold to determine if a community is predominately one race or the other."
   ],
   "cell_type": "markdown",
   "metadata": {}
  },
  {
   "cell_type": "code",
   "execution_count": 28,
   "metadata": {},
   "outputs": [],
   "source": [
    "# rename columns to merge dataframes\n",
    "rename_cols = {'white_percentage': 'percentage','black_percentage': 'percentage'}\n",
    "white_zips = white_zips.rename(columns=rename_cols)\n",
    "black_zips = black_zips.rename(columns=rename_cols)\n",
    "\n",
    "# create combined data set to show chloropeth for White vs. Black communities\n",
    "race_data = pd.concat([white_zips, black_zips])\n",
    "\n",
    "# create map for white communities\n",
    "latitude=40.000000\n",
    "longitude=-89.000000\n",
    "ilMap=folium.Map(location=[latitude, longitude], tiles='Stamen Toner', zoom_start=9)\n",
    "ilMap.choropleth(geo_data='il_zip_codes_geo.geojson', data=race_data, columns=['zip_code', 'percentage'], key_on='feature.properties.ZCTA5CE10', fill_color='YlOrBr', fill_opacity=1, line_weight=0.2)\n"
   ]
  }
 ]
}